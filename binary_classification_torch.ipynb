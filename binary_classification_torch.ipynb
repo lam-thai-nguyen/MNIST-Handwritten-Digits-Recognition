{
 "cells": [
  {
   "cell_type": "code",
   "execution_count": 1,
   "metadata": {},
   "outputs": [],
   "source": [
    "import torch\n",
    "import torch.nn as nn\n",
    "import torch.optim as optim\n",
    "from torch.utils.data import DataLoader\n",
    "import torchvision.transforms as transforms\n",
    "from torchvision.datasets import MNIST\n",
    "from sklearn.metrics import accuracy_score\n",
    "\n",
    "import numpy as np\n",
    "import matplotlib.pyplot as plt\n",
    "\n",
    "torch.manual_seed(42)\n",
    "torch.cuda.manual_seed_all(42)\n",
    "device = \"cuda\""
   ]
  },
  {
   "cell_type": "markdown",
   "metadata": {},
   "source": [
    "### **STEP 1: Create Dataset and DataLoader**"
   ]
  },
  {
   "cell_type": "code",
   "execution_count": 2,
   "metadata": {},
   "outputs": [
    {
     "name": "stdout",
     "output_type": "stream",
     "text": [
      "The MNIST dataset has 60000 training examples and 10000 test examples.\n",
      "\n",
      "Training set has the following attributes:\n",
      "- features shape: torch.Size([60000, 28, 28])\n",
      "- targets shape: torch.Size([60000])\n",
      "\n",
      "Test set has the following attributes:\n",
      "- features shape: torch.Size([10000, 28, 28])\n",
      "- targets shape: torch.Size([10000])\n"
     ]
    }
   ],
   "source": [
    "# Transform\n",
    "transform = transforms.Compose([\n",
    "    transforms.Resize([28, 28]),  # [Height, Width]\n",
    "    transforms.ToTensor()  # PIL image to torch.tensor\n",
    "])\n",
    "\n",
    "# Dataset\n",
    "training_data = MNIST(root=\"data\", train=True, transform=transform, target_transform=None, download=False)\n",
    "test_data = MNIST(root=\"data\", train=False, transform=transform, target_transform=None, download=False)\n",
    "\n",
    "print(f\"The MNIST dataset has {len(training_data)} training examples and {len(test_data)} test examples.\\n\")\n",
    "print(f\"Training set has the following attributes:\\n- features shape: {training_data.data.shape}\\n- targets shape: {training_data.targets.shape}\\n\")\n",
    "print(f\"Test set has the following attributes:\\n- features shape: {test_data.data.shape}\\n- targets shape: {test_data.targets.shape}\")"
   ]
  },
  {
   "cell_type": "code",
   "execution_count": 3,
   "metadata": {},
   "outputs": [],
   "source": [
    "# Extracted dataset of 0 and 1 digits\n",
    "train_filter = (training_data.targets == 0) | (training_data.targets == 1)\n",
    "test_filter = (test_data.targets == 0) | (test_data.targets == 1)\n",
    "\n",
    "training_data.data = training_data.data[train_filter]\n",
    "training_data.targets = training_data.targets[train_filter]\n",
    "\n",
    "test_data.data = test_data.data[test_filter]\n",
    "test_data.targets = test_data.targets[test_filter]"
   ]
  },
  {
   "cell_type": "code",
   "execution_count": 4,
   "metadata": {},
   "outputs": [
    {
     "name": "stdout",
     "output_type": "stream",
     "text": [
      "The MNIST dataset has 12665 training examples and 2115 test examples of 0 and 1 digits.\n",
      "\n",
      "Training set has the following attributes:\n",
      "- features shape: torch.Size([12665, 28, 28])\n",
      "- targets shape: torch.Size([12665])\n",
      "\n",
      "Test set has the following attributes:\n",
      "- features shape: torch.Size([2115, 28, 28])\n",
      "- targets shape: torch.Size([2115])\n",
      "\n",
      "First training example's shape -> torch.Size([1, 28, 28]) as (Channel, Height, Width) and the label of 0.\n"
     ]
    }
   ],
   "source": [
    "# __len__ method in any Dataset class allows the use of len().\n",
    "print(f\"The MNIST dataset has {len(training_data)} training examples and {len(test_data)} test examples of 0 and 1 digits.\\n\")\n",
    "print(f\"Training set has the following attributes:\\n- features shape: {training_data.data.shape}\\n- targets shape: {training_data.targets.shape}\\n\")\n",
    "print(f\"Test set has the following attributes:\\n- features shape: {test_data.data.shape}\\n- targets shape: {test_data.targets.shape}\\n\")\n",
    "\n",
    "# __getitem__ in any Dataset class allows indexing with [].\n",
    "image, label = training_data[0]\n",
    "print(f\"First training example's shape -> {image.shape} as (Channel, Height, Width) and the label of {label}.\")"
   ]
  },
  {
   "cell_type": "code",
   "execution_count": 5,
   "metadata": {},
   "outputs": [
    {
     "name": "stdout",
     "output_type": "stream",
     "text": [
      "dataloader has generated 396 batches, with 395 complete batches and the last batch contains 25 examples.\n"
     ]
    }
   ],
   "source": [
    "# Create dataloader to batch the dataset\n",
    "batch_size = 32\n",
    "dataloader = DataLoader(dataset=training_data, batch_size=batch_size, shuffle=True)\n",
    "print(f\"dataloader has generated {len(dataloader)} batches, with {len(training_data) // batch_size} complete batches and the last batch contains {len(training_data) % batch_size} examples.\")"
   ]
  },
  {
   "cell_type": "code",
   "execution_count": 6,
   "metadata": {},
   "outputs": [
    {
     "name": "stdout",
     "output_type": "stream",
     "text": [
      "Each images batch -> torch.Size([32, 1, 28, 28]), torch.float32\n",
      "Each labels batch -> torch.Size([32]), torch.int64\n"
     ]
    }
   ],
   "source": [
    "images, labels = next(iter(dataloader))\n",
    "print(f\"Each images batch -> {images.shape}, {images.dtype}\")\n",
    "print(f\"Each labels batch -> {labels.shape}, {labels.dtype}\")"
   ]
  },
  {
   "cell_type": "markdown",
   "metadata": {},
   "source": [
    "### **STEP 2: Create the model**"
   ]
  },
  {
   "cell_type": "code",
   "execution_count": 7,
   "metadata": {},
   "outputs": [],
   "source": [
    "class DigitsClassifier(nn.Module):\n",
    "    def __init__(self):\n",
    "        super(DigitsClassifier, self).__init__()\n",
    "        self.fc1 = nn.Linear(784, 25)\n",
    "        self.fc2 = nn.Linear(25, 15)\n",
    "        self.fc3 = nn.Linear(15, 1)\n",
    "        self.sigmoid = nn.Sigmoid()\n",
    "        \n",
    "    def forward(self, x):\n",
    "        x = x.view(x.shape[0], -1)\n",
    "        x = self.sigmoid(self.fc1(x))\n",
    "        x = self.sigmoid(self.fc2(x))\n",
    "        x = self.sigmoid(self.fc3(x))\n",
    "        return x.squeeze(1)"
   ]
  },
  {
   "cell_type": "code",
   "execution_count": 8,
   "metadata": {},
   "outputs": [
    {
     "name": "stdout",
     "output_type": "stream",
     "text": [
      "DigitsClassifier(\n",
      "  (fc1): Linear(in_features=784, out_features=25, bias=True)\n",
      "  (fc2): Linear(in_features=25, out_features=15, bias=True)\n",
      "  (fc3): Linear(in_features=15, out_features=1, bias=True)\n",
      "  (sigmoid): Sigmoid()\n",
      ")\n"
     ]
    }
   ],
   "source": [
    "model = DigitsClassifier().to(device)\n",
    "print(model)"
   ]
  },
  {
   "cell_type": "code",
   "execution_count": 9,
   "metadata": {},
   "outputs": [
    {
     "name": "stdout",
     "output_type": "stream",
     "text": [
      "Prediction's shape: torch.Size([32])\n",
      "Prediction: tensor([0.5138, 0.5145, 0.5149, 0.5129, 0.5150, 0.5136, 0.5144, 0.5118, 0.5152,\n",
      "        0.5150, 0.5139, 0.5166, 0.5151, 0.5156, 0.5142, 0.5164, 0.5148, 0.5135,\n",
      "        0.5142, 0.5132, 0.5152, 0.5129, 0.5154, 0.5143, 0.5145, 0.5143, 0.5141,\n",
      "        0.5132, 0.5155, 0.5145, 0.5152, 0.5149], device='cuda:0',\n",
      "       grad_fn=<SqueezeBackward1>)\n"
     ]
    }
   ],
   "source": [
    "# Test if the model is working okay regardless of the result\n",
    "pred = model(torch.rand((batch_size, 1, 28, 28)).to(device))\n",
    "\n",
    "print(f\"Prediction's shape: {pred.shape}\")\n",
    "print(f\"Prediction: {pred}\")"
   ]
  },
  {
   "cell_type": "markdown",
   "metadata": {},
   "source": [
    "### **STEP 3: The training loop**"
   ]
  },
  {
   "cell_type": "code",
   "execution_count": 10,
   "metadata": {},
   "outputs": [],
   "source": [
    "# Create loss function and optimizer\n",
    "criterion = nn.BCELoss()\n",
    "optimizer = optim.Adam(params=model.parameters(), lr=0.001)"
   ]
  },
  {
   "cell_type": "code",
   "execution_count": 11,
   "metadata": {},
   "outputs": [
    {
     "data": {
      "text/plain": [
       "tensor(0.6949, device='cuda:0', grad_fn=<BinaryCrossEntropyBackward0>)"
      ]
     },
     "execution_count": 11,
     "metadata": {},
     "output_type": "execute_result"
    }
   ],
   "source": [
    "# Test the loss function\n",
    "gt = torch.rand(batch_size).to(device)\n",
    "gt = (gt >= 0.5).float()\n",
    "criterion(pred, gt)"
   ]
  },
  {
   "cell_type": "code",
   "execution_count": 12,
   "metadata": {},
   "outputs": [],
   "source": [
    "train_loader = DataLoader(training_data, batch_size=batch_size, shuffle=True)\n",
    "test_loader = DataLoader(test_data, batch_size=batch_size, shuffle=False)"
   ]
  },
  {
   "cell_type": "code",
   "execution_count": 13,
   "metadata": {},
   "outputs": [
    {
     "name": "stdout",
     "output_type": "stream",
     "text": [
      "Epoch 1 | train loss: 98.31420223042369 | validation loss: 4.199846372008324.\n",
      "Epoch 2 | train loss: 15.42141024582088 | validation loss: 1.4796390607953072.\n",
      "Epoch 3 | train loss: 7.062669164501131 | validation loss: 0.8083544783294201.\n",
      "Epoch 4 | train loss: 4.2912201238796115 | validation loss: 0.557508921250701.\n",
      "Epoch 5 | train loss: 2.974753551185131 | validation loss: 0.4292644392699003.\n",
      "Epoch 6 | train loss: 2.2749323958996683 | validation loss: 0.3899772521108389.\n",
      "Epoch 7 | train loss: 1.7182468597311527 | validation loss: 0.3554476094432175.\n",
      "Epoch 8 | train loss: 1.3414809063542634 | validation loss: 0.23488129570614547.\n",
      "Epoch 9 | train loss: 1.0277296488638967 | validation loss: 0.23885125783272088.\n",
      "Epoch 10 | train loss: 0.7227326508145779 | validation loss: 0.19939694163622335.\n",
      "Epoch 11 | train loss: 0.6127875799429603 | validation loss: 0.16993087209993973.\n",
      "Epoch 12 | train loss: 0.5356132062152028 | validation loss: 0.17628367530414835.\n",
      "Epoch 13 | train loss: 0.4768848760286346 | validation loss: 0.17536110762739554.\n",
      "Epoch 14 | train loss: 0.4353776098578237 | validation loss: 0.17760562256444246.\n",
      "Epoch 15 | train loss: 0.4044364378496539 | validation loss: 0.18028222167049535.\n",
      "Epoch 16 | train loss: 0.38138915292802267 | validation loss: 0.18337612293544225.\n",
      "Epoch 17 | train loss: 0.36345170614367817 | validation loss: 0.182001488035894.\n",
      "Epoch 18 | train loss: 0.3489975249831332 | validation loss: 0.17939391815161798.\n",
      "Epoch 19 | train loss: 0.33793070731917396 | validation loss: 0.17760789375461172.\n",
      "Epoch 20 | train loss: 0.3276708201301517 | validation loss: 0.18156247308070306.\n",
      "FINISHED TRAINING!\n"
     ]
    }
   ],
   "source": [
    "# Training loop\n",
    "num_epochs = 20\n",
    "train_loss = []\n",
    "validation_loss = []\n",
    "\n",
    "for epoch in range(num_epochs):\n",
    "    # Set to training mode\n",
    "    model.train()\n",
    "    running_loss = 0.0\n",
    "    \n",
    "    for inputs, targets in train_loader:\n",
    "        inputs, targets = inputs.to(device), targets.to(device)\n",
    "        \n",
    "        # Zero your gradients for every batch!\n",
    "        optimizer.zero_grad()\n",
    "        \n",
    "        # Making inference\n",
    "        outputs = model(inputs)\n",
    "        \n",
    "        # Compute the loss and its gradients (backprop)\n",
    "        loss = criterion(outputs, targets.float())\n",
    "        loss.backward()\n",
    "        \n",
    "        # Adjust learning weights\n",
    "        optimizer.step()\n",
    "        \n",
    "        # Gather data and report\n",
    "        running_loss += loss.item()\n",
    "        \n",
    "    train_loss.append(running_loss)\n",
    "    \n",
    "    # Set the model to evaluation mode\n",
    "    model.eval()\n",
    "    running_vloss = 0.0\n",
    "    \n",
    "    # Disable gradient computation and reduce memory consumption.\n",
    "    with torch.no_grad():\n",
    "        for inputs, targets in test_loader:\n",
    "            inputs, targets = inputs.to(device), targets.to(device)\n",
    "            \n",
    "            outputs = model(inputs)\n",
    "            vloss = criterion(outputs, targets.float())\n",
    "            running_vloss += vloss.item()\n",
    "    \n",
    "    validation_loss.append(running_vloss)\n",
    "\n",
    "    print(f\"Epoch {epoch + 1} | train loss: {running_loss} | validation loss: {running_vloss}.\")\n",
    "\n",
    "print(\"FINISHED TRAINING!\")"
   ]
  },
  {
   "cell_type": "code",
   "execution_count": 14,
   "metadata": {},
   "outputs": [
    {
     "data": {
      "image/png": "[encoded data removed]",
      "text/plain": [
       "<Figure size 800x800 with 1 Axes>"
      ]
     },
     "metadata": {},
     "output_type": "display_data"
    }
   ],
   "source": [
    "plt.figure(figsize=(8, 8))\n",
    "plt.plot(train_loss, label=\"Training\", c='r')\n",
    "plt.plot(validation_loss, label=\"Validation\", c='b')\n",
    "plt.xlabel(\"# Epoch\")\n",
    "plt.ylabel(\"Loss\")\n",
    "plt.legend()\n",
    "plt.title(\"Loss over epoch\")\n",
    "plt.show()"
   ]
  },
  {
   "cell_type": "markdown",
   "metadata": {},
   "source": [
    "### **STEP 4: Making inferences**"
   ]
  },
  {
   "cell_type": "code",
   "execution_count": 15,
   "metadata": {},
   "outputs": [
    {
     "name": "stdout",
     "output_type": "stream",
     "text": [
      "We have made 2115 inferences.\n"
     ]
    }
   ],
   "source": [
    "# Setting the model to evaluation mode freezes the parameters\n",
    "model.eval()\n",
    "\n",
    "# Create an empty list to store all predictions\n",
    "all_predictions = []\n",
    "\n",
    "# Disable gradient calculation\n",
    "with torch.no_grad():\n",
    "    for inputs, _ in test_loader:\n",
    "        inputs = inputs.to(device)\n",
    "        \n",
    "        # Making inference\n",
    "        probabilities = model(inputs)\n",
    "        \n",
    "        # Applying threshold\n",
    "        predictions = (probabilities >= 0.5).float()\n",
    "        \n",
    "        all_predictions.append(predictions)\n",
    "                \n",
    "# Concatenate predictions from all batches into a single tensor\n",
    "all_predictions = torch.cat(all_predictions)\n",
    "print(f\"We have made {len(all_predictions)} inferences.\")"
   ]
  },
  {
   "cell_type": "code",
   "execution_count": 16,
   "metadata": {},
   "outputs": [
    {
     "name": "stdout",
     "output_type": "stream",
     "text": [
      "Accuracy of model: 99.9527 %\n"
     ]
    }
   ],
   "source": [
    "# Performance on the test set\n",
    "acc = accuracy_score(test_data.targets.cpu(), all_predictions.cpu())\n",
    "print(f\"Accuracy of model: {acc * 100:.4f} %\")"
   ]
  },
  {
   "cell_type": "code",
   "execution_count": 17,
   "metadata": {},
   "outputs": [
    {
     "name": "stdout",
     "output_type": "stream",
     "text": [
      "We have misclassified 1 example(s).\n"
     ]
    }
   ],
   "source": [
    "# Viewing misclassified examples\n",
    "misclassified_indices = (all_predictions.to(device) != test_data.targets.to(device)).nonzero()\n",
    "print(f\"We have misclassified {len(misclassified_indices)} example(s).\")"
   ]
  },
  {
   "cell_type": "code",
   "execution_count": 18,
   "metadata": {},
   "outputs": [
    {
     "data": {
      "image/png": "[encoded data removed]",
      "text/plain": [
       "<Figure size 500x500 with 1 Axes>"
      ]
     },
     "metadata": {},
     "output_type": "display_data"
    }
   ],
   "source": [
    "# Visualization\n",
    "image, label = test_data[misclassified_indices[0].item()]\n",
    "pred = model(image.to(device)).cpu()\n",
    "\n",
    "plt.figure(figsize=(5, 5))\n",
    "plt.imshow(image.squeeze(), cmap='gray')\n",
    "plt.axis('off')\n",
    "plt.title(f\"Prediction: {pred.item():.4f}, Label: {label}\")\n",
    "plt.show()"
   ]
  }
 ],
 "metadata": {
  "kernelspec": {
   "display_name": "Python 3",
   "language": "python",
   "name": "python3"
  },
  "language_info": {
   "codemirror_mode": {
    "name": "ipython",
    "version": 3
   },
   "file_extension": ".py",
   "mimetype": "text/x-python",
   "name": "python",
   "nbconvert_exporter": "python",
   "pygments_lexer": "ipython3",
   "version": "3.11.5"
  }
 },
 "nbformat": 4,
 "nbformat_minor": 2
}
