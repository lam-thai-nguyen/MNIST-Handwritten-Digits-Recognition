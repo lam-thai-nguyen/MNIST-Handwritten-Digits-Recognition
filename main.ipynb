{
 "cells": [
  {
   "cell_type": "markdown",
   "metadata": {},
   "source": [
    "## Binary Classification Task - 0 and 1 handwritten digits recognition"
   ]
  },
  {
   "cell_type": "code",
   "execution_count": 2,
   "metadata": {},
   "outputs": [],
   "source": [
    "import numpy as np\n",
    "import matplotlib.pyplot as plt\n",
    "import tensorflow as tf\n",
    "from tensorflow import keras\n",
    "from keras.models import Sequential\n",
    "from keras.layers import Dense\n",
    "from sklearn.metrics import accuracy_score\n",
    "\n",
    "import logging\n",
    "logging.getLogger(\"tensorflow\").setLevel(logging.ERROR)"
   ]
  },
  {
   "cell_type": "code",
   "execution_count": 2,
   "metadata": {},
   "outputs": [],
   "source": [
    "# load dataset\n",
    "(X_train, y_train), (X_test, y_test) = keras.datasets.mnist.load_data()"
   ]
  },
  {
   "cell_type": "code",
   "execution_count": 3,
   "metadata": {},
   "outputs": [],
   "source": [
    "# Creating a dataset of 0 and 1 digits for binary classification\n",
    "X_train = X_train[(y_train == 0) | (y_train == 1)]\n",
    "y_train = y_train[(y_train == 0) | (y_train == 1)]\n",
    "X_test = X_test[(y_test == 0) | (y_test == 1)]\n",
    "y_test = y_test[(y_test == 0) | (y_test == 1)]"
   ]
  },
  {
   "cell_type": "code",
   "execution_count": 4,
   "metadata": {},
   "outputs": [
    {
     "name": "stdout",
     "output_type": "stream",
     "text": [
      "X train shape: (12665, 28, 28)\n",
      "y train shape: (12665,)\n",
      "X test shape: (2115, 28, 28)\n",
      "y test shape: (2115,)\n"
     ]
    }
   ],
   "source": [
    "print(f\"X train shape: {X_train.shape}\")\n",
    "print(f\"y train shape: {y_train.shape}\")\n",
    "print(f\"X test shape: {X_test.shape}\")\n",
    "print(f\"y test shape: {y_test.shape}\")"
   ]
  },
  {
   "cell_type": "code",
   "execution_count": 5,
   "metadata": {},
   "outputs": [],
   "source": [
    "# Reshaping\n",
    "X_train = X_train.reshape((12665, -1))\n",
    "y_train = y_train.reshape((12665, -1))\n",
    "X_test = X_test.reshape((2115, -1))\n",
    "y_test = y_test.reshape((2115, -1))"
   ]
  },
  {
   "cell_type": "code",
   "execution_count": 6,
   "metadata": {},
   "outputs": [
    {
     "name": "stdout",
     "output_type": "stream",
     "text": [
      "X train shape: (12665, 784)\n",
      "y train shape: (12665, 1)\n",
      "X test shape: (2115, 784)\n",
      "y test shape: (2115, 1)\n"
     ]
    }
   ],
   "source": [
    "print(f\"X train shape: {X_train.shape}\")\n",
    "print(f\"y train shape: {y_train.shape}\")\n",
    "print(f\"X test shape: {X_test.shape}\")\n",
    "print(f\"y test shape: {y_test.shape}\")"
   ]
  },
  {
   "cell_type": "code",
   "execution_count": 7,
   "metadata": {},
   "outputs": [],
   "source": [
    "model = Sequential(\n",
    "    [\n",
    "        keras.Input(shape=(784,)),\n",
    "        Dense(units=25, activation=\"sigmoid\"),\n",
    "        Dense(units=15, activation=\"sigmoid\"),\n",
    "        Dense(units=1, activation=\"sigmoid\"),\n",
    "    ],\n",
    "    name=\"my_model\",\n",
    ")"
   ]
  },
  {
   "cell_type": "code",
   "execution_count": 8,
   "metadata": {},
   "outputs": [
    {
     "name": "stdout",
     "output_type": "stream",
     "text": [
      "Model: \"my_model\"\n",
      "_________________________________________________________________\n",
      " Layer (type)                Output Shape              Param #   \n",
      "=================================================================\n",
      " dense (Dense)               (None, 25)                19625     \n",
      "                                                                 \n",
      " dense_1 (Dense)             (None, 15)                390       \n",
      "                                                                 \n",
      " dense_2 (Dense)             (None, 1)                 16        \n",
      "                                                                 \n",
      "=================================================================\n",
      "Total params: 20031 (78.25 KB)\n",
      "Trainable params: 20031 (78.25 KB)\n",
      "Non-trainable params: 0 (0.00 Byte)\n",
      "_________________________________________________________________\n"
     ]
    }
   ],
   "source": [
    "model.summary()"
   ]
  },
  {
   "cell_type": "code",
   "execution_count": 9,
   "metadata": {},
   "outputs": [],
   "source": [
    "[layer1, layer2, layer3] = model.layers"
   ]
  },
  {
   "cell_type": "code",
   "execution_count": 10,
   "metadata": {},
   "outputs": [
    {
     "name": "stdout",
     "output_type": "stream",
     "text": [
      "W1 shape = (784, 25), b1 shape = (25,)\n",
      "W2 shape = (25, 15), b2 shape = (15,)\n",
      "W3 shape = (15, 1), b3 shape = (1,)\n"
     ]
    }
   ],
   "source": [
    "# Examine Weights shapes\n",
    "W1, b1 = layer1.get_weights()\n",
    "W2, b2 = layer2.get_weights()\n",
    "W3, b3 = layer3.get_weights()\n",
    "print(f\"W1 shape = {W1.shape}, b1 shape = {b1.shape}\")\n",
    "print(f\"W2 shape = {W2.shape}, b2 shape = {b2.shape}\")\n",
    "print(f\"W3 shape = {W3.shape}, b3 shape = {b3.shape}\")"
   ]
  },
  {
   "cell_type": "code",
   "execution_count": 11,
   "metadata": {},
   "outputs": [
    {
     "name": "stdout",
     "output_type": "stream",
     "text": [
      "Epoch 1/20\n",
      "396/396 [==============================] - 2s 2ms/step - loss: 0.1902\n",
      "Epoch 2/20\n",
      "396/396 [==============================] - 1s 2ms/step - loss: 0.0336\n",
      "Epoch 3/20\n",
      "396/396 [==============================] - 1s 2ms/step - loss: 0.0155\n",
      "Epoch 4/20\n",
      "396/396 [==============================] - 1s 2ms/step - loss: 0.0107\n",
      "Epoch 5/20\n",
      "396/396 [==============================] - 1s 2ms/step - loss: 0.0078\n",
      "Epoch 6/20\n",
      "396/396 [==============================] - 1s 2ms/step - loss: 0.0063\n",
      "Epoch 7/20\n",
      "396/396 [==============================] - 1s 2ms/step - loss: 0.0052\n",
      "Epoch 8/20\n",
      "396/396 [==============================] - 1s 2ms/step - loss: 0.0051\n",
      "Epoch 9/20\n",
      "396/396 [==============================] - 1s 2ms/step - loss: 0.0048\n",
      "Epoch 10/20\n",
      "396/396 [==============================] - 1s 2ms/step - loss: 0.0047\n",
      "Epoch 11/20\n",
      "396/396 [==============================] - 1s 2ms/step - loss: 0.0045\n",
      "Epoch 12/20\n",
      "396/396 [==============================] - 1s 1ms/step - loss: 0.0037\n",
      "Epoch 13/20\n",
      "396/396 [==============================] - 1s 1ms/step - loss: 0.0044\n",
      "Epoch 14/20\n",
      "396/396 [==============================] - 1s 2ms/step - loss: 0.0048\n",
      "Epoch 15/20\n",
      "396/396 [==============================] - 1s 2ms/step - loss: 0.0040\n",
      "Epoch 16/20\n",
      "396/396 [==============================] - 1s 2ms/step - loss: 0.0036\n",
      "Epoch 17/20\n",
      "396/396 [==============================] - 1s 2ms/step - loss: 0.0040\n",
      "Epoch 18/20\n",
      "396/396 [==============================] - 1s 1ms/step - loss: 0.0034\n",
      "Epoch 19/20\n",
      "396/396 [==============================] - 1s 2ms/step - loss: 0.0032\n",
      "Epoch 20/20\n",
      "396/396 [==============================] - 1s 2ms/step - loss: 0.0029\n"
     ]
    },
    {
     "data": {
      "text/plain": [
       "<keras.src.callbacks.History at 0x1aac73c2ed0>"
      ]
     },
     "execution_count": 11,
     "metadata": {},
     "output_type": "execute_result"
    }
   ],
   "source": [
    "model.compile(\n",
    "    loss=tf.keras.losses.BinaryCrossentropy(),\n",
    "    optimizer=tf.keras.optimizers.Adam(learning_rate=0.001),\n",
    ")\n",
    "\n",
    "model.fit(X_train, y_train, epochs=20)"
   ]
  },
  {
   "cell_type": "code",
   "execution_count": 12,
   "metadata": {},
   "outputs": [
    {
     "name": "stdout",
     "output_type": "stream",
     "text": [
      "1/1 [==============================] - 0s 57ms/step\n",
      "1/1 [==============================] - 0s 34ms/step\n",
      "1/1 [==============================] - 0s 46ms/step\n",
      "1/1 [==============================] - 0s 14ms/step\n",
      "1/1 [==============================] - 0s 50ms/step\n"
     ]
    },
    {
     "data": {
      "image/png": "[encoded data removed]",
      "text/plain": [
       "<Figure size 1000x200 with 5 Axes>"
      ]
     },
     "metadata": {},
     "output_type": "display_data"
    }
   ],
   "source": [
    "# Making predictions\n",
    "fig, axes = plt.subplots(nrows=1, ncols=5, figsize=(10, 2))\n",
    "\n",
    "for i, ax in enumerate(axes):\n",
    "    ax.imshow(X_test[i].reshape((28, 28)), cmap='gray')\n",
    "    ax.set_title(model.predict(X_test[i].reshape((1, 784))))\n",
    "    ax.axis('off')\n",
    "plt.show()"
   ]
  },
  {
   "cell_type": "code",
   "execution_count": 13,
   "metadata": {},
   "outputs": [
    {
     "name": "stdout",
     "output_type": "stream",
     "text": [
      "67/67 [==============================] - 0s 1ms/step\n",
      "Model's accuracy score: 0.9990543735224586\n"
     ]
    }
   ],
   "source": [
    "# Accuracy of the model\n",
    "probabilities = model.predict(X_test)\n",
    "predictions = (probabilities >= 0.5).astype(int)\n",
    "accuracy = accuracy_score(y_test, predictions)\n",
    "print(f\"Model's accuracy score: {accuracy}\")\n"
   ]
  },
  {
   "cell_type": "code",
   "execution_count": 14,
   "metadata": {},
   "outputs": [
    {
     "name": "stdout",
     "output_type": "stream",
     "text": [
      "There are 2 examples --> [[1172    0]\n",
      " [2031    0]]\n"
     ]
    }
   ],
   "source": [
    "# Viewing misclassified examples\n",
    "misclassified = np.argwhere(predictions != y_test)\n",
    "print(f\"There are {len(misclassified)} examples --> {misclassified}\")"
   ]
  },
  {
   "cell_type": "code",
   "execution_count": 15,
   "metadata": {},
   "outputs": [],
   "source": [
    "examples_id = []\n",
    "for example in misclassified:\n",
    "    index = example[0]\n",
    "    examples_id.append(index)"
   ]
  },
  {
   "cell_type": "code",
   "execution_count": 16,
   "metadata": {},
   "outputs": [
    {
     "name": "stdout",
     "output_type": "stream",
     "text": [
      "1/1 [==============================] - 0s 23ms/step\n",
      "1/1 [==============================] - 0s 14ms/step\n"
     ]
    },
    {
     "data": {
      "image/png": "[encoded data removed]",
      "text/plain": [
       "<Figure size 600x300 with 2 Axes>"
      ]
     },
     "metadata": {},
     "output_type": "display_data"
    }
   ],
   "source": [
    "fig, axes = plt.subplots(nrows=1, ncols=2, figsize=(6, 3))\n",
    "for i, ax in enumerate(axes):\n",
    "    ax.imshow(X_test[examples_id[i]].reshape(28, 28), cmap='gray')\n",
    "    ax.set_title(model.predict(X_test[examples_id[i]].reshape((1, 784))))\n",
    "    ax.axis('off')\n",
    "plt.show()"
   ]
  }
 ],
 "metadata": {
  "kernelspec": {
   "display_name": "Python 3",
   "language": "python",
   "name": "python3"
  },
  "language_info": {
   "codemirror_mode": {
    "name": "ipython",
    "version": 3
   },
   "file_extension": ".py",
   "mimetype": "text/x-python",
   "name": "python",
   "nbconvert_exporter": "python",
   "pygments_lexer": "ipython3",
   "version": "3.11.5"
  }
 },
 "nbformat": 4,
 "nbformat_minor": 2
}
